using LinearAlgebra
using Plots

pauli1::Matrix{ComplexF64} = [0 1;1 0]
pauli2::Matrix{ComplexF64} = [0 -im;im 0]
pauli3::Matrix{ComplexF64} = [1 0;0 1]
id2 = Matrix{ComplexF64}(I, 2, 2)
gamma1 = [0I pauli1; pauli1 0I]
gamma2 = [0I pauli2; pauli2 0I]
gamma3 = [0I pauli3; pauli3 0I]
gamma4 = [0I -im*id2; im*id2 0I]
gsum::Matrix{ComplexF64} = [0 1;1 0]
gdiff::Matrix{ComplexF64} = [0 1;1 0]

function shift(n)
    Sh = [Int(==(mod(i,n),mod(j+1,n))) for i in 1:n, j in 1:n]
    return Sh
    end 

function hslice(n,m)
    sh = shift(n)
    ish = transpose(sh)
    idn = Matrix{ComplexF64}(I, n, n)
    idn2 = Matrix{ComplexF64}(I, n^2, n^2)

    hx = zeros(ComplexF64,4*(n^2),4*(n^2))
    hx = kron(gamma2,kron(sh+ish,idn))+kron(gamma3,kron(idn,sh+ish)) - im*(kron(gamma4,kron(sh-ish,idn)+kron(idn,sh-ish)))
    hx = kron(gamma4,m*idn2) + 0.5*hx

    return hx
    end 

    
function lyapunov(n,m,lx)
    transfer = Matrix{ComplexF64}(I, 8*n^2, 8*n^2)
    h = hslice(n,m)
    idn24 = Matrix{ComplexF64}(I,4*n^2, 4*n^2)
    for i = 1:lx
        transfer = transfer * [h 1*I; -1*idn24 0I]
    end 
    ht = Hermitian(transfer*transfer)
    evals = eigvals(ht)
    
    for i in 1:8*n^2
        if evals[i] < 0
            evals[i] = maximum(evals)
        end 
    end 

    ly = minimum(evals)

    ly = (log(ly))/lx
    

    return 1/ly
end 

JULIA_NUM_THREADS=12



